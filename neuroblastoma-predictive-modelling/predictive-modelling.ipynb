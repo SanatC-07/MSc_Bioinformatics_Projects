{
 "cells": [
  {
   "cell_type": "markdown",
   "id": "a1d7709a",
   "metadata": {},
   "source": [
    "# Neuroblastoma Predictive Modelling\n",
    "\n",
    "### Project Objective:\n",
    "The goal of this project is to develop a machine learning model that can predict clinical outcomes in neuroblastoma patients using RNA-Seq gene expression data. Several clinical outcome fields contain missing values. This project aims to train a model that can accurately predict those outcomes and impute the missing values accordingly.\n",
    "\n",
    "### Project Aims:\n",
    "\n",
    "- **Explore and understand** the dataset to identify patterns, distributions, and any preprocessing needs.\n",
    "\n",
    "- **Select clinical endpoints** as target variables for prediction:\n",
    "  \n",
    "  - **Death from Disease:**  \n",
    "    Occurrence of death from the disease  \n",
    "    (yes = 1, no = 0)\n",
    "  \n",
    "  - **High Risk:**  \n",
    "    Clinically considered as high-risk neuroblastoma  \n",
    "    (yes = 1, no = 0)\n",
    "  \n",
    "  - **INSS Stage:**  \n",
    "    Disease stage according to the International Neuroblastoma Staging System  \n",
    "    (1, 2, 3, 4, or 4S)\n",
    "  \n",
    "  - **Progression:**  \n",
    "    Occurrence of a tumor progression event  \n",
    "    (yes = 1, no = 0)\n",
    "\n",
    "- **Build classification models** to predict each selected clinical endpoint using RNA-Seq gene expression data.\n",
    "\n",
    "- **Evaluate model performance** using appropriate metrics such as accuracy, precision, recall, F1-score, and ROC-AUC.\n",
    "\n",
    "- **Generate predictions** for the missing clinical outcomes in the test set using the trained models."
   ]
  },
  {
   "cell_type": "markdown",
   "id": "30fdb501",
   "metadata": {},
   "source": [
    "\n",
    "## Part 1: Import libraries"
   ]
  },
  {
   "cell_type": "code",
   "execution_count": 1,
   "id": "a9b35c4c",
   "metadata": {},
   "outputs": [],
   "source": [
    "# Data handling\n",
    "import pandas as pd\n",
    "import numpy as np\n",
    "\n",
    "# Visualisation\n",
    "import matplotlib.pyplot as plt\n",
    "import seaborn as sns\n",
    "\n",
    "# Machine Learning\n",
    "from sklearn.model_selection import train_test_split, cross_val_score\n",
    "from sklearn.linear_model import LogisticRegression\n",
    "from sklearn.ensemble import RandomForestClassifier\n",
    "from sklearn.preprocessing import StandardScaler\n",
    "from sklearn.pipeline import make_pipeline\n",
    "from sklearn.metrics import (\n",
    "    accuracy_score,\n",
    "    confusion_matrix,\n",
    "    classification_report,\n",
    "    roc_auc_score,\n",
    "    roc_curve\n",
    ")"
   ]
  },
  {
   "cell_type": "markdown",
   "id": "20622c92",
   "metadata": {},
   "source": [
    "\n",
    "## Part 2: Load Data\n",
    "\n",
    "Gene expression of 498 neuroblastoma samples was quantified by RNA sequencing."
   ]
  },
  {
   "cell_type": "code",
   "execution_count": 2,
   "id": "f9da63fc",
   "metadata": {},
   "outputs": [],
   "source": [
    "# Load data\n",
    "\n",
    "# Gene expression data\n",
    "df_rnaseq = pd.read_csv(\"./data/log2FPKM.tsv\", sep = \"\\t\", index_col = 0)\n",
    "\n",
    "# Patient Info data\n",
    "df_patient_info = pd.read_csv(\"./data/patientInfo.tsv\", sep = \"\\t\", index_col=0)\n",
    "\n",
    "# Reversing the order of rows based on the patient IDs\n",
    "df_patient_info = df_patient_info.sort_index(ascending=True)\n"
   ]
  },
  {
   "cell_type": "code",
   "execution_count": 5,
   "id": "e206f58a",
   "metadata": {},
   "outputs": [],
   "source": [
    "#df_rnaseq\n",
    "#df_patient_info"
   ]
  },
  {
   "cell_type": "markdown",
   "id": "6656ddbc",
   "metadata": {},
   "source": [
    "**Observations:**\n",
    "- There are missing values in some of the samples in both gene expression and patient info data\n",
    "\n",
    "**Inference:**\n",
    "- We can use the samples with missing values as the test set"
   ]
  },
  {
   "cell_type": "markdown",
   "id": "a708c8f0",
   "metadata": {},
   "source": [
    "## Part 3: Feature Engineering\n",
    "\n",
    "**Objectives:**\n",
    "- Match the sample names in the gene expression data with the patient info data\n",
    "- Merge the two datasets\n",
    "- Check if same samples have missing values in the combined dataset\n",
    "- Separate samples with missing values as df_test and non-missing values as df_train\n",
    "- Standardise the features"
   ]
  },
  {
   "cell_type": "code",
   "execution_count": null,
   "id": "b72cd1ab",
   "metadata": {},
   "outputs": [],
   "source": [
    "# Extract the patient IDs from the df_patient_info \n",
    "patient_ids = df_patient_info.index.values\n",
    "#patient_ids\n",
    "\n",
    "# Rename the columns of df_rnaseq\n",
    "df_rnaseq.columns = patient_ids\n",
    "\n",
    "# Transpose RNA-seq data\n",
    "df_rnaseq_t = df_rnaseq.T\n",
    "#df_rnaseq_t"
   ]
  },
  {
   "cell_type": "code",
   "execution_count": null,
   "id": "1d9845e6",
   "metadata": {},
   "outputs": [],
   "source": [
    "# Merge dataframes\n",
    "df_merged = df_patient_info.merge(df_rnaseq_t, left_index=True, right_index=True)\n",
    "#df_merged"
   ]
  },
  {
   "cell_type": "code",
   "execution_count": 7,
   "id": "6a4d4abb",
   "metadata": {},
   "outputs": [
    {
     "data": {
      "text/plain": [
       "FactorValue..death.from.disease.    249\n",
       "FactorValue..high.risk.             249\n",
       "FactorValue..inss.stage.            249\n",
       "FactorValue..progression.           249\n",
       "dtype: int64"
      ]
     },
     "execution_count": 7,
     "metadata": {},
     "output_type": "execute_result"
    }
   ],
   "source": [
    "# Check missing values in clinical outcomes\n",
    "df_merged[['FactorValue..death.from.disease.',\n",
    "           'FactorValue..high.risk.',\n",
    "           'FactorValue..inss.stage.',\n",
    "           'FactorValue..progression.']].isna().sum()"
   ]
  },
  {
   "cell_type": "code",
   "execution_count": 8,
   "id": "aef10da9",
   "metadata": {},
   "outputs": [
    {
     "name": "stdout",
     "output_type": "stream",
     "text": [
      "Are missing values aligned across all outcomes? True\n"
     ]
    }
   ],
   "source": [
    "# List the four outcome columns\n",
    "outcome_cols = [\n",
    "    'FactorValue..death.from.disease.',\n",
    "    'FactorValue..high.risk.',\n",
    "    'FactorValue..inss.stage.',\n",
    "    'FactorValue..progression.'\n",
    "]\n",
    "\n",
    "# For each column, find the index of missing rows\n",
    "missing_indices_per_outcome = [df_merged[df_merged[col].isna()].index for col in outcome_cols]\n",
    "\n",
    "# Check if all sets of missing indices are the same\n",
    "all_same = all(missing_indices_per_outcome[0].equals(idx) for idx in missing_indices_per_outcome[1:])\n",
    "\n",
    "print(\"Are missing values aligned across all outcomes?\", all_same)"
   ]
  },
  {
   "cell_type": "code",
   "execution_count": 9,
   "id": "3ad52c72",
   "metadata": {},
   "outputs": [],
   "source": [
    "# Get patient IDs with missing values (can use any one outcome since they're aligned)\n",
    "missing_patient_ids = df_merged[df_merged['FactorValue..death.from.disease.'].isna()].index\n",
    "\n",
    "# Create test set: patients with missing clinical outcome values\n",
    "df_test = df_merged.loc[missing_patient_ids]\n",
    "\n",
    "# Create train set: patients with complete outcome information\n",
    "df_train = df_merged.drop(index=missing_patient_ids)"
   ]
  },
  {
   "cell_type": "code",
   "execution_count": 10,
   "id": "ebf9ad60",
   "metadata": {},
   "outputs": [
    {
     "name": "stdout",
     "output_type": "stream",
     "text": [
      "Train missing values per outcome:\n",
      "FactorValue..death.from.disease.    0\n",
      "FactorValue..high.risk.             0\n",
      "FactorValue..inss.stage.            0\n",
      "FactorValue..progression.           0\n",
      "dtype: int64\n",
      "\n",
      "Test missing values per outcome:\n",
      "FactorValue..death.from.disease.    249\n",
      "FactorValue..high.risk.             249\n",
      "FactorValue..inss.stage.            249\n",
      "FactorValue..progression.           249\n",
      "dtype: int64\n"
     ]
    }
   ],
   "source": [
    "# Confirm no missing values in train\n",
    "print(\"Train missing values per outcome:\")\n",
    "print(df_train[outcome_cols].isna().sum())\n",
    "\n",
    "# Confirm all values are missing in test\n",
    "print(\"\\nTest missing values per outcome:\")\n",
    "print(df_test[outcome_cols].isna().sum())"
   ]
  },
  {
   "cell_type": "code",
   "execution_count": 11,
   "id": "18b409f9",
   "metadata": {},
   "outputs": [],
   "source": [
    "# Define target outcome columns\n",
    "target_outcomes = [\n",
    "    'FactorValue..death.from.disease.',\n",
    "    'FactorValue..high.risk.',\n",
    "    'FactorValue..inss.stage.',\n",
    "    'FactorValue..progression.'\n",
    "]\n",
    "\n",
    "# Drop unnecessary columns from X_train (Sex and age)\n",
    "X_train = df_train.drop(columns=outcome_cols + ['FactorValue..Sex.', 'FactorValue..age.at.diagnosis.'])\n",
    "\n",
    "# For the test set, we do the same (drop clinical columns and the ones not relevant to predictions)\n",
    "X_test = df_test.drop(columns=outcome_cols + ['FactorValue..Sex.', 'FactorValue..age.at.diagnosis.'])"
   ]
  },
  {
   "cell_type": "code",
   "execution_count": null,
   "id": "f1f4a22a",
   "metadata": {},
   "outputs": [],
   "source": [
    "# Standardise the features\n",
    "scaler = StandardScaler()\n",
    "X_train_scaled = scaler.fit_transform(X_train)\n",
    "X_test_scaled = scaler.transform(X_test)  # for real test prediction later"
   ]
  },
  {
   "cell_type": "markdown",
   "id": "033d55c9",
   "metadata": {},
   "source": [
    "**Observations:**\n",
    "- Exactly 249 samples had missing values for all features in the combined dataset. This is exactly half of all samples (498)\n",
    "- df_train had no missing values and df_test had all missing values\n",
    "- Age and Sex features were removed as they are not being considered in this project\n",
    "- All target outcomes are binary\n",
    "\n",
    "**Inference:**\n",
    "- Since all targets had 2 outcomes (0, 1), a binary classification model such as logistic regression can be used to predict the missing outcomes in the df_test dataset."
   ]
  },
  {
   "cell_type": "markdown",
   "id": "aad08dc7",
   "metadata": {},
   "source": [
    "## Part 4: Train models for each clinical outcome\n",
    "\n",
    "**Objectives:**\n",
    "- Train 4 logistic regression models (one for each outcome)\n",
    "- Use accuracy, precision, recall and f1-score performance metrics to evaluate the models"
   ]
  },
  {
   "cell_type": "code",
   "execution_count": 13,
   "id": "4fb84f1e",
   "metadata": {},
   "outputs": [],
   "source": [
    "# Dictionary to store trained models\n",
    "models = {}\n",
    "\n",
    "for outcome in target_outcomes:\n",
    "    y = df_train[outcome]  # current target labels\n",
    "    model = LogisticRegression(max_iter=1000)\n",
    "    model.fit(X_train_scaled, y)\n",
    "    models[outcome] = model  # save model for later"
   ]
  },
  {
   "cell_type": "code",
   "execution_count": 14,
   "id": "996e9d40",
   "metadata": {},
   "outputs": [
    {
     "name": "stdout",
     "output_type": "stream",
     "text": [
      "Evaluation for: FactorValue..death.from.disease.\n",
      "              precision    recall  f1-score   support\n",
      "\n",
      "         0.0       0.97      0.80      0.88        40\n",
      "         1.0       0.53      0.90      0.67        10\n",
      "\n",
      "    accuracy                           0.82        50\n",
      "   macro avg       0.75      0.85      0.77        50\n",
      "weighted avg       0.88      0.82      0.83        50\n",
      "\n",
      "--------------------------------------------------\n",
      "Evaluation for: FactorValue..high.risk.\n",
      "              precision    recall  f1-score   support\n",
      "\n",
      "         0.0       0.97      0.94      0.95        33\n",
      "         1.0       0.89      0.94      0.91        17\n",
      "\n",
      "    accuracy                           0.94        50\n",
      "   macro avg       0.93      0.94      0.93        50\n",
      "weighted avg       0.94      0.94      0.94        50\n",
      "\n",
      "--------------------------------------------------\n",
      "Evaluation for: FactorValue..inss.stage.\n",
      "              precision    recall  f1-score   support\n",
      "\n",
      "           1       0.23      0.25      0.24        12\n",
      "           2       0.11      0.12      0.12         8\n",
      "           3       0.33      0.17      0.22         6\n",
      "           4       0.70      0.78      0.74        18\n",
      "          4S       0.40      0.33      0.36         6\n",
      "\n",
      "    accuracy                           0.42        50\n",
      "   macro avg       0.36      0.33      0.34        50\n",
      "weighted avg       0.41      0.42      0.41        50\n",
      "\n",
      "--------------------------------------------------\n",
      "Evaluation for: FactorValue..progression.\n",
      "              precision    recall  f1-score   support\n",
      "\n",
      "         0.0       0.91      0.66      0.76        32\n",
      "         1.0       0.59      0.89      0.71        18\n",
      "\n",
      "    accuracy                           0.74        50\n",
      "   macro avg       0.75      0.77      0.74        50\n",
      "weighted avg       0.80      0.74      0.74        50\n",
      "\n",
      "--------------------------------------------------\n"
     ]
    }
   ],
   "source": [
    "for outcome in target_outcomes:\n",
    "    y = df_train[outcome]\n",
    "\n",
    "    # Split known data for evaluation\n",
    "    X_subtrain, X_val, y_subtrain, y_val = train_test_split(\n",
    "        X_train_scaled, y, test_size=0.2, random_state=42, stratify=y\n",
    "    )\n",
    "\n",
    "    # Train a new model for this split\n",
    "    model = LogisticRegression(max_iter=1000)\n",
    "    model.fit(X_subtrain, y_subtrain)\n",
    "    \n",
    "    # Predict and evaluate\n",
    "    y_pred = model.predict(X_val)\n",
    "    print(f\"Evaluation for: {outcome}\")\n",
    "    print(classification_report(y_val, y_pred))\n",
    "    print(\"-\" * 50)"
   ]
  },
  {
   "cell_type": "markdown",
   "id": "616b5e0a",
   "metadata": {},
   "source": [
    "**Observations:**\n",
    "1. Model for predicting death from disease:\n",
    "    - Good accuracy (82%)\n",
    "    - Low precision for predicting death (0.53) but high precision for predicting no death (0.97)\n",
    "    - High recall for predicitng death (0.90)\n",
    "\n",
    "2. Model for predicting high risk:\n",
    "    - High accuracy (94%)\n",
    "    - High precision and recall for predicting death and no death\n",
    "\n",
    "3. Model for predicting INSS stage:\n",
    "    - Low accuracy (42%)\n",
    "    - Low precision and recall for all stages\n",
    "\n",
    "4. Model for predicting disease progression:\n",
    "    - Decent accuracy (74%)\n",
    "    - Low precision for predicting disease progression (0.59) but high precision for predicting no disease progression (0.91)\n",
    "    - High recall for prediciting progression of disease (0.89)\n",
    "\n",
    "\n",
    "**Inferences**\n",
    "1. Model for predicting death from disease:\n",
    "    - This model is incorrect almost half the time (precision = 0.53), this means there are many false positives.\n",
    "    - It catches most real deaths correctly (recall = 0.90), which means low false negatives and high true positives.\n",
    "    - This model is useful when missing a death case is riskier than wrongly predicting one.\n",
    "\n",
    "2. Model for predicting high risk:\n",
    "    - The model performs consistently well for both high-risk and non-high-risk patients, with high precision and recall for both classes.\n",
    "    - It has few false positives and false negatives. This makes this model a reliable classifier.\n",
    "\n",
    "3. Model for predicting INSS stage:\n",
    "    - This model performs poorly across all stages with both low precision and low recall.\n",
    "    - This is likely due to the multiclass nature of the outcome (stages 1, 2, 3, 4, and 4S), which logistic regression may struggle to handle effectively, especially with class imbalance.\n",
    "    - A non-linear model like Random Forest may be better suited for this task, as it can capture complex patterns in multiclass classification problems.\n",
    "\n",
    "4. Model for predicting disease progression:\n",
    "    - This model is good at identifying actual progression cases (recall = 0.89), meaning few false negatives and many true positives.\n",
    "    - The precision for progression is lower (0.59), indicating many false positives. This means this model often predicts disease progression even though it is an incorrect prediction.\n",
    "    - This model is useful when catching progression cases is more important than avoiding false alarms."
   ]
  }
 ],
 "metadata": {
  "kernelspec": {
   "display_name": "venv",
   "language": "python",
   "name": "python3"
  },
  "language_info": {
   "codemirror_mode": {
    "name": "ipython",
    "version": 3
   },
   "file_extension": ".py",
   "mimetype": "text/x-python",
   "name": "python",
   "nbconvert_exporter": "python",
   "pygments_lexer": "ipython3",
   "version": "3.13.3"
  }
 },
 "nbformat": 4,
 "nbformat_minor": 5
}
